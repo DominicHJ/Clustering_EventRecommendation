{
 "cells": [
  {
   "cell_type": "markdown",
   "metadata": {},
   "source": [
    "# 对用户进行聚类\n",
    "\n",
    "数据来源于Kaggle竞赛：Event Recommendation Engine Challenge，根据events they’ve responded to in the past user demographic information what events they’ve seen and clicked on in our app 用户对某个事件是否感兴趣  \n",
    "\n",
    "竞赛官网：https://www.kaggle.com/c/event-recommendation-engine-challenge/data  \n",
    "\n",
    "由于用户众多（3w+），可以对用户进行聚类用户描述信息在users.csv文件：共7维特征  \n",
    "user_id  \n",
    "locale：地区，语言  \n",
    "birthyear：出身年  \n",
    "gender：性别  \n",
    "joinedAt：用户加入APP的时间，ISO-8601 UTC time  \n",
    "location：地点  \n",
    "timezone：时区    \n",
    " \n",
    "后101列为词频：count_1, count_2, ..., count_100，count_other    \n",
    "count_N：活动描述出现第N个词的次数    \n",
    "count_other：除了最常用的100个词之外的其余词出现的次数    \n",
    " \n",
    "根据活动的关键词（count_1, count_2, ..., count_100，count_other属性）做聚类    \n",
    "\n",
    "由于样本数目较多，本项目使用MiniBatchKMeans。  "
   ]
  },
  {
   "cell_type": "code",
   "execution_count": 250,
   "metadata": {},
   "outputs": [],
   "source": [
    "#导入必要的工具包\n",
    "import pandas as pd\n",
    "import numpy as np\n",
    "from sklearn.cluster import MiniBatchKMeans\n",
    "from sklearn import metrics\n",
    "\n",
    "from sklearn.decomposition import PCA\n",
    "import time\n",
    "\n",
    "import matplotlib.pyplot as plt\n",
    "%matplotlib inline"
   ]
  },
  {
   "cell_type": "markdown",
   "metadata": {},
   "source": [
    "读取已筛选好的数据"
   ]
  },
  {
   "cell_type": "code",
   "execution_count": 251,
   "metadata": {},
   "outputs": [
    {
     "data": {
      "text/html": [
       "<div>\n",
       "<style scoped>\n",
       "    .dataframe tbody tr th:only-of-type {\n",
       "        vertical-align: middle;\n",
       "    }\n",
       "\n",
       "    .dataframe tbody tr th {\n",
       "        vertical-align: top;\n",
       "    }\n",
       "\n",
       "    .dataframe thead th {\n",
       "        text-align: right;\n",
       "    }\n",
       "</style>\n",
       "<table border=\"1\" class=\"dataframe\">\n",
       "  <thead>\n",
       "    <tr style=\"text-align: right;\">\n",
       "      <th></th>\n",
       "      <th>event_id</th>\n",
       "      <th>user_id</th>\n",
       "      <th>start_time</th>\n",
       "      <th>city</th>\n",
       "      <th>state</th>\n",
       "      <th>zip</th>\n",
       "      <th>country</th>\n",
       "      <th>lat</th>\n",
       "      <th>lng</th>\n",
       "      <th>c_1</th>\n",
       "      <th>...</th>\n",
       "      <th>c_92</th>\n",
       "      <th>c_93</th>\n",
       "      <th>c_94</th>\n",
       "      <th>c_95</th>\n",
       "      <th>c_96</th>\n",
       "      <th>c_97</th>\n",
       "      <th>c_98</th>\n",
       "      <th>c_99</th>\n",
       "      <th>c_100</th>\n",
       "      <th>c_other</th>\n",
       "    </tr>\n",
       "  </thead>\n",
       "  <tbody>\n",
       "    <tr>\n",
       "      <th>0</th>\n",
       "      <td>684921758</td>\n",
       "      <td>3647864012</td>\n",
       "      <td>2012-10-31T00:00:00.001Z</td>\n",
       "      <td>NaN</td>\n",
       "      <td>NaN</td>\n",
       "      <td>NaN</td>\n",
       "      <td>NaN</td>\n",
       "      <td>NaN</td>\n",
       "      <td>NaN</td>\n",
       "      <td>2</td>\n",
       "      <td>...</td>\n",
       "      <td>0</td>\n",
       "      <td>1</td>\n",
       "      <td>0</td>\n",
       "      <td>0</td>\n",
       "      <td>0</td>\n",
       "      <td>0</td>\n",
       "      <td>0</td>\n",
       "      <td>0</td>\n",
       "      <td>0</td>\n",
       "      <td>9</td>\n",
       "    </tr>\n",
       "    <tr>\n",
       "      <th>1</th>\n",
       "      <td>244999119</td>\n",
       "      <td>3476440521</td>\n",
       "      <td>2012-11-03T00:00:00.001Z</td>\n",
       "      <td>NaN</td>\n",
       "      <td>NaN</td>\n",
       "      <td>NaN</td>\n",
       "      <td>NaN</td>\n",
       "      <td>NaN</td>\n",
       "      <td>NaN</td>\n",
       "      <td>2</td>\n",
       "      <td>...</td>\n",
       "      <td>0</td>\n",
       "      <td>0</td>\n",
       "      <td>0</td>\n",
       "      <td>0</td>\n",
       "      <td>0</td>\n",
       "      <td>0</td>\n",
       "      <td>0</td>\n",
       "      <td>0</td>\n",
       "      <td>0</td>\n",
       "      <td>7</td>\n",
       "    </tr>\n",
       "    <tr>\n",
       "      <th>2</th>\n",
       "      <td>3928440935</td>\n",
       "      <td>517514445</td>\n",
       "      <td>2012-11-05T00:00:00.001Z</td>\n",
       "      <td>NaN</td>\n",
       "      <td>NaN</td>\n",
       "      <td>NaN</td>\n",
       "      <td>NaN</td>\n",
       "      <td>NaN</td>\n",
       "      <td>NaN</td>\n",
       "      <td>0</td>\n",
       "      <td>...</td>\n",
       "      <td>0</td>\n",
       "      <td>0</td>\n",
       "      <td>0</td>\n",
       "      <td>0</td>\n",
       "      <td>0</td>\n",
       "      <td>0</td>\n",
       "      <td>0</td>\n",
       "      <td>0</td>\n",
       "      <td>0</td>\n",
       "      <td>12</td>\n",
       "    </tr>\n",
       "    <tr>\n",
       "      <th>3</th>\n",
       "      <td>2582345152</td>\n",
       "      <td>781585781</td>\n",
       "      <td>2012-10-30T00:00:00.001Z</td>\n",
       "      <td>NaN</td>\n",
       "      <td>NaN</td>\n",
       "      <td>NaN</td>\n",
       "      <td>NaN</td>\n",
       "      <td>NaN</td>\n",
       "      <td>NaN</td>\n",
       "      <td>1</td>\n",
       "      <td>...</td>\n",
       "      <td>0</td>\n",
       "      <td>0</td>\n",
       "      <td>0</td>\n",
       "      <td>0</td>\n",
       "      <td>0</td>\n",
       "      <td>0</td>\n",
       "      <td>0</td>\n",
       "      <td>0</td>\n",
       "      <td>0</td>\n",
       "      <td>8</td>\n",
       "    </tr>\n",
       "    <tr>\n",
       "      <th>4</th>\n",
       "      <td>1051165850</td>\n",
       "      <td>1016098580</td>\n",
       "      <td>2012-09-27T00:00:00.001Z</td>\n",
       "      <td>NaN</td>\n",
       "      <td>NaN</td>\n",
       "      <td>NaN</td>\n",
       "      <td>NaN</td>\n",
       "      <td>NaN</td>\n",
       "      <td>NaN</td>\n",
       "      <td>1</td>\n",
       "      <td>...</td>\n",
       "      <td>0</td>\n",
       "      <td>0</td>\n",
       "      <td>0</td>\n",
       "      <td>0</td>\n",
       "      <td>0</td>\n",
       "      <td>0</td>\n",
       "      <td>0</td>\n",
       "      <td>0</td>\n",
       "      <td>0</td>\n",
       "      <td>9</td>\n",
       "    </tr>\n",
       "  </tbody>\n",
       "</table>\n",
       "<p>5 rows × 110 columns</p>\n",
       "</div>"
      ],
      "text/plain": [
       "     event_id     user_id                start_time city state  zip country  \\\n",
       "0   684921758  3647864012  2012-10-31T00:00:00.001Z  NaN   NaN  NaN     NaN   \n",
       "1   244999119  3476440521  2012-11-03T00:00:00.001Z  NaN   NaN  NaN     NaN   \n",
       "2  3928440935   517514445  2012-11-05T00:00:00.001Z  NaN   NaN  NaN     NaN   \n",
       "3  2582345152   781585781  2012-10-30T00:00:00.001Z  NaN   NaN  NaN     NaN   \n",
       "4  1051165850  1016098580  2012-09-27T00:00:00.001Z  NaN   NaN  NaN     NaN   \n",
       "\n",
       "   lat  lng  c_1   ...     c_92  c_93  c_94  c_95  c_96  c_97  c_98  c_99  \\\n",
       "0  NaN  NaN    2   ...        0     1     0     0     0     0     0     0   \n",
       "1  NaN  NaN    2   ...        0     0     0     0     0     0     0     0   \n",
       "2  NaN  NaN    0   ...        0     0     0     0     0     0     0     0   \n",
       "3  NaN  NaN    1   ...        0     0     0     0     0     0     0     0   \n",
       "4  NaN  NaN    1   ...        0     0     0     0     0     0     0     0   \n",
       "\n",
       "   c_100  c_other  \n",
       "0      0        9  \n",
       "1      0        7  \n",
       "2      0       12  \n",
       "3      0        8  \n",
       "4      0        9  \n",
       "\n",
       "[5 rows x 110 columns]"
      ]
     },
     "execution_count": 251,
     "metadata": {},
     "output_type": "execute_result"
    }
   ],
   "source": [
    "data = pd.read_csv(\"target_event.csv\")\n",
    "data.head()"
   ]
  },
  {
   "cell_type": "code",
   "execution_count": 252,
   "metadata": {},
   "outputs": [
    {
     "name": "stdout",
     "output_type": "stream",
     "text": [
      "<class 'pandas.core.frame.DataFrame'>\n",
      "RangeIndex: 1532 entries, 0 to 1531\n",
      "Columns: 110 entries, event_id to c_other\n",
      "dtypes: float64(2), int64(103), object(5)\n",
      "memory usage: 1.3+ MB\n"
     ]
    }
   ],
   "source": [
    "data.info()"
   ]
  },
  {
   "cell_type": "markdown",
   "metadata": {},
   "source": [
    "可看出每个样本共有110个特征，本次项目只对活动关键词（count_1, count_2, ..., count_100，count_other属性）做聚类，故只需保留着101维数据即可，将其他的特征全部移除"
   ]
  },
  {
   "cell_type": "code",
   "execution_count": 253,
   "metadata": {},
   "outputs": [],
   "source": [
    "X_train = data.drop([\"event_id\",\"user_id\",\"start_time\",\"city\",\"state\",\"zip\",\"country\",\"lat\",\"lng\"],axis=1)"
   ]
  },
  {
   "cell_type": "code",
   "execution_count": 254,
   "metadata": {},
   "outputs": [
    {
     "data": {
      "text/html": [
       "<div>\n",
       "<style scoped>\n",
       "    .dataframe tbody tr th:only-of-type {\n",
       "        vertical-align: middle;\n",
       "    }\n",
       "\n",
       "    .dataframe tbody tr th {\n",
       "        vertical-align: top;\n",
       "    }\n",
       "\n",
       "    .dataframe thead th {\n",
       "        text-align: right;\n",
       "    }\n",
       "</style>\n",
       "<table border=\"1\" class=\"dataframe\">\n",
       "  <thead>\n",
       "    <tr style=\"text-align: right;\">\n",
       "      <th></th>\n",
       "      <th>c_1</th>\n",
       "      <th>c_2</th>\n",
       "      <th>c_3</th>\n",
       "      <th>c_4</th>\n",
       "      <th>c_5</th>\n",
       "      <th>c_6</th>\n",
       "      <th>c_7</th>\n",
       "      <th>c_8</th>\n",
       "      <th>c_9</th>\n",
       "      <th>c_10</th>\n",
       "      <th>...</th>\n",
       "      <th>c_92</th>\n",
       "      <th>c_93</th>\n",
       "      <th>c_94</th>\n",
       "      <th>c_95</th>\n",
       "      <th>c_96</th>\n",
       "      <th>c_97</th>\n",
       "      <th>c_98</th>\n",
       "      <th>c_99</th>\n",
       "      <th>c_100</th>\n",
       "      <th>c_other</th>\n",
       "    </tr>\n",
       "  </thead>\n",
       "  <tbody>\n",
       "    <tr>\n",
       "      <th>0</th>\n",
       "      <td>2</td>\n",
       "      <td>0</td>\n",
       "      <td>2</td>\n",
       "      <td>0</td>\n",
       "      <td>0</td>\n",
       "      <td>0</td>\n",
       "      <td>0</td>\n",
       "      <td>0</td>\n",
       "      <td>0</td>\n",
       "      <td>0</td>\n",
       "      <td>...</td>\n",
       "      <td>0</td>\n",
       "      <td>1</td>\n",
       "      <td>0</td>\n",
       "      <td>0</td>\n",
       "      <td>0</td>\n",
       "      <td>0</td>\n",
       "      <td>0</td>\n",
       "      <td>0</td>\n",
       "      <td>0</td>\n",
       "      <td>9</td>\n",
       "    </tr>\n",
       "    <tr>\n",
       "      <th>1</th>\n",
       "      <td>2</td>\n",
       "      <td>0</td>\n",
       "      <td>2</td>\n",
       "      <td>0</td>\n",
       "      <td>0</td>\n",
       "      <td>0</td>\n",
       "      <td>0</td>\n",
       "      <td>0</td>\n",
       "      <td>0</td>\n",
       "      <td>0</td>\n",
       "      <td>...</td>\n",
       "      <td>0</td>\n",
       "      <td>0</td>\n",
       "      <td>0</td>\n",
       "      <td>0</td>\n",
       "      <td>0</td>\n",
       "      <td>0</td>\n",
       "      <td>0</td>\n",
       "      <td>0</td>\n",
       "      <td>0</td>\n",
       "      <td>7</td>\n",
       "    </tr>\n",
       "    <tr>\n",
       "      <th>2</th>\n",
       "      <td>0</td>\n",
       "      <td>0</td>\n",
       "      <td>0</td>\n",
       "      <td>0</td>\n",
       "      <td>0</td>\n",
       "      <td>0</td>\n",
       "      <td>0</td>\n",
       "      <td>0</td>\n",
       "      <td>0</td>\n",
       "      <td>0</td>\n",
       "      <td>...</td>\n",
       "      <td>0</td>\n",
       "      <td>0</td>\n",
       "      <td>0</td>\n",
       "      <td>0</td>\n",
       "      <td>0</td>\n",
       "      <td>0</td>\n",
       "      <td>0</td>\n",
       "      <td>0</td>\n",
       "      <td>0</td>\n",
       "      <td>12</td>\n",
       "    </tr>\n",
       "    <tr>\n",
       "      <th>3</th>\n",
       "      <td>1</td>\n",
       "      <td>0</td>\n",
       "      <td>2</td>\n",
       "      <td>1</td>\n",
       "      <td>0</td>\n",
       "      <td>0</td>\n",
       "      <td>0</td>\n",
       "      <td>0</td>\n",
       "      <td>0</td>\n",
       "      <td>0</td>\n",
       "      <td>...</td>\n",
       "      <td>0</td>\n",
       "      <td>0</td>\n",
       "      <td>0</td>\n",
       "      <td>0</td>\n",
       "      <td>0</td>\n",
       "      <td>0</td>\n",
       "      <td>0</td>\n",
       "      <td>0</td>\n",
       "      <td>0</td>\n",
       "      <td>8</td>\n",
       "    </tr>\n",
       "    <tr>\n",
       "      <th>4</th>\n",
       "      <td>1</td>\n",
       "      <td>1</td>\n",
       "      <td>0</td>\n",
       "      <td>0</td>\n",
       "      <td>0</td>\n",
       "      <td>0</td>\n",
       "      <td>0</td>\n",
       "      <td>2</td>\n",
       "      <td>0</td>\n",
       "      <td>0</td>\n",
       "      <td>...</td>\n",
       "      <td>0</td>\n",
       "      <td>0</td>\n",
       "      <td>0</td>\n",
       "      <td>0</td>\n",
       "      <td>0</td>\n",
       "      <td>0</td>\n",
       "      <td>0</td>\n",
       "      <td>0</td>\n",
       "      <td>0</td>\n",
       "      <td>9</td>\n",
       "    </tr>\n",
       "  </tbody>\n",
       "</table>\n",
       "<p>5 rows × 101 columns</p>\n",
       "</div>"
      ],
      "text/plain": [
       "   c_1  c_2  c_3  c_4  c_5  c_6  c_7  c_8  c_9  c_10   ...     c_92  c_93  \\\n",
       "0    2    0    2    0    0    0    0    0    0     0   ...        0     1   \n",
       "1    2    0    2    0    0    0    0    0    0     0   ...        0     0   \n",
       "2    0    0    0    0    0    0    0    0    0     0   ...        0     0   \n",
       "3    1    0    2    1    0    0    0    0    0     0   ...        0     0   \n",
       "4    1    1    0    0    0    0    0    2    0     0   ...        0     0   \n",
       "\n",
       "   c_94  c_95  c_96  c_97  c_98  c_99  c_100  c_other  \n",
       "0     0     0     0     0     0     0      0        9  \n",
       "1     0     0     0     0     0     0      0        7  \n",
       "2     0     0     0     0     0     0      0       12  \n",
       "3     0     0     0     0     0     0      0        8  \n",
       "4     0     0     0     0     0     0      0        9  \n",
       "\n",
       "[5 rows x 101 columns]"
      ]
     },
     "execution_count": 254,
     "metadata": {},
     "output_type": "execute_result"
    }
   ],
   "source": [
    "X_train.head()"
   ]
  },
  {
   "cell_type": "code",
   "execution_count": 255,
   "metadata": {
    "scrolled": true
   },
   "outputs": [
    {
     "name": "stdout",
     "output_type": "stream",
     "text": [
      "the shape of data: (1532, 101)\n"
     ]
    }
   ],
   "source": [
    "# 输入的特征维数和样本数目\n",
    "print('the shape of data: {}'.format(X_train.shape))"
   ]
  },
  {
   "cell_type": "markdown",
   "metadata": {},
   "source": [
    "数据已准备好，共101维特征，1532个样本"
   ]
  },
  {
   "cell_type": "markdown",
   "metadata": {},
   "source": [
    "# 直接聚类"
   ]
  },
  {
   "cell_type": "markdown",
   "metadata": {},
   "source": [
    "使用K-mean算法，此处需要调试超参数K（质心的数目），由于没有y标签，所以无法使用外部评价指标，只能使用内部评价指标Silhouette Coefficient和Calinski-Harabasz Index，这两个评价指标的分数越高，说明聚类效果越好。  \n",
    "\n",
    "这里选用MiniBatchKMeans（K-mean算法变种），采用随机小批量的数据子集减少计算时间，类似于随机梯度下降法。MiniBatchKMeans加快了收敛速度，但在测试集上也降低了聚类的效果，但在实际项目中，降低效果表现并不明显，可能反而因为增加了泛化能力，在实际中得到更好的聚类效果"
   ]
  },
  {
   "cell_type": "code",
   "execution_count": 256,
   "metadata": {},
   "outputs": [],
   "source": [
    "# 一个参数点（聚类数据为K）的模型\n",
    "def K_cluster_analysis(K, X_train):\n",
    "    start = time.time()\n",
    "    \n",
    "    #print(\"K-means begin with clusters: {}\".format(K));\n",
    "    \n",
    "    #K-means,在训练集上训练\n",
    "    mb_kmeans = MiniBatchKMeans(n_clusters = K)\n",
    "    mb_kmeans.fit(X_train)\n",
    "    \n",
    "    # K值的评估标准\n",
    "    #常见的方法有轮廓系数Silhouette Coefficient和Calinski-Harabasz Index\n",
    "    #这两个分数值越大则聚类效果越好\n",
    "    CH_score_calinski = metrics.calinski_harabaz_score(X_train,mb_kmeans.predict(X_train))\n",
    "    CH_score_silhouett = metrics.silhouette_score(X_train,mb_kmeans.predict(X_train))\n",
    "    \n",
    "    \n",
    "    end = time.time()\n",
    "    print(\"CH_score_calinski: {}, CH_score_silhouett: {},time elaps:{}\".format(CH_score_calinski, CH_score_silhouett, int(end-start)))\n",
    "    \n",
    "    return CH_score_calinski,CH_score_silhouett"
   ]
  },
  {
   "cell_type": "markdown",
   "metadata": {},
   "source": [
    "轮廓系数Silhouette Coefficient的评价原理是计算类内散度和类间散度，如果类内散度越小，类间散度越大，则计算的结果数值越大，也就说明聚类效果越好，取值范围[-1,1]，一般大于0.5表示聚类效果不错  \n",
    "CH索引Calinski-Harabasz Index和轮廓系数原理差不多，只是计算公式不同，在给定K的情况下，使用欧式距离计算类间散度和类内散度，计算速度更快点，也是分值越大越好"
   ]
  },
  {
   "cell_type": "code",
   "execution_count": 257,
   "metadata": {},
   "outputs": [
    {
     "name": "stdout",
     "output_type": "stream",
     "text": [
      "CH_score_calinski: 3565.9123030743863, CH_score_silhouett: 0.5296773475808788,time elaps:0\n",
      "CH_score_calinski: 2348.641154660084, CH_score_silhouett: 0.252169663017688,time elaps:0\n",
      "CH_score_calinski: 1359.382463028583, CH_score_silhouett: 0.17953294944336143,time elaps:0\n",
      "CH_score_calinski: 1073.1963098834542, CH_score_silhouett: 0.20813930917961881,time elaps:0\n",
      "CH_score_calinski: 1346.308023779811, CH_score_silhouett: 0.16907376224880957,time elaps:0\n",
      "CH_score_calinski: 1197.4102010100305, CH_score_silhouett: 0.11428335250155786,time elaps:1\n",
      "CH_score_calinski: 1184.9930104001899, CH_score_silhouett: 0.1718551781700824,time elaps:1\n",
      "CH_score_calinski: 1056.3171238256, CH_score_silhouett: 0.1676699669778822,time elaps:0\n",
      "CH_score_calinski: 987.6267663686575, CH_score_silhouett: 0.18563989804490405,time elaps:0\n",
      "CH_score_calinski: 875.8979606272376, CH_score_silhouett: 0.18729963341634698,time elaps:1\n"
     ]
    }
   ],
   "source": [
    "# 设置超参数（聚类数目K）搜索范围\n",
    "Ks = [10, 20, 30, 40, 50, 60, 70, 80, 90, 100]\n",
    "\n",
    "CH_score_calinski = []\n",
    "CH_score_silhouett = []\n",
    "for K in Ks:\n",
    "    ch_ca, ch_si = K_cluster_analysis(K, X_train)\n",
    "    CH_score_calinski.append(ch_ca)\n",
    "    CH_score_silhouett.append(ch_si)"
   ]
  },
  {
   "cell_type": "code",
   "execution_count": 258,
   "metadata": {},
   "outputs": [
    {
     "data": {
      "text/plain": [
       "[<matplotlib.lines.Line2D at 0x1a2870c79e8>]"
      ]
     },
     "execution_count": 258,
     "metadata": {},
     "output_type": "execute_result"
    },
    {
     "data": {
      "image/png": "[encoded data removed]",
      "text/plain": [
       "<Figure size 432x288 with 1 Axes>"
      ]
     },
     "metadata": {},
     "output_type": "display_data"
    }
   ],
   "source": [
    "# 绘制不同PCA维数下模型的性能，找到最佳模型／参数（分数最高）\n",
    "plt.plot(Ks, np.array(CH_score_calinski), 'b-')"
   ]
  },
  {
   "cell_type": "code",
   "execution_count": 259,
   "metadata": {},
   "outputs": [
    {
     "data": {
      "text/plain": [
       "[<matplotlib.lines.Line2D at 0x1a2802e3470>]"
      ]
     },
     "execution_count": 259,
     "metadata": {},
     "output_type": "execute_result"
    },
    {
     "data": {
      "image/png": "[encoded data removed]",
      "text/plain": [
       "<Figure size 432x288 with 1 Axes>"
      ]
     },
     "metadata": {},
     "output_type": "display_data"
    }
   ],
   "source": [
    "# 绘制不同PCA维数下模型的性能，找到最佳模型／参数（分数最高）\n",
    "plt.plot(Ks, np.array(CH_score_silhouett), 'g-')"
   ]
  },
  {
   "cell_type": "markdown",
   "metadata": {},
   "source": [
    "K-means聚类方法需要设定分类的数目K，属于超参数，以上选择10~100内的10个K值分别进行聚类，并使用两个内部评价指标对聚类效果进行评价  \n",
    "从以上两个曲线可看出，曲线的走势基本相同，都是随着聚类数目的增加，曲线下降，即聚类效果越来越差，可能是因为该数据集本身就不需要分成这么多类。在K值小于20的区间，两个评价指标分数下降的很快，故应尝试对前面的K值再进行调优，将K值候选范围缩小"
   ]
  },
  {
   "cell_type": "code",
   "execution_count": 260,
   "metadata": {},
   "outputs": [
    {
     "name": "stdout",
     "output_type": "stream",
     "text": [
      "CH_score_calinski: 1932.9880510154362, CH_score_silhouett: 0.697130077903193,time elaps:0\n",
      "CH_score_calinski: 3096.3450549795075, CH_score_silhouett: 0.6752776073984005,time elaps:0\n",
      "CH_score_calinski: 3477.5985646131608, CH_score_silhouett: 0.6319787316611213,time elaps:0\n",
      "CH_score_calinski: 3794.18897077505, CH_score_silhouett: 0.591289102675195,time elaps:0\n",
      "CH_score_calinski: 4038.2362700138724, CH_score_silhouett: 0.5602413410722774,time elaps:0\n",
      "CH_score_calinski: 4442.277558494651, CH_score_silhouett: 0.537059523558319,time elaps:0\n",
      "CH_score_calinski: 4617.110102433553, CH_score_silhouett: 0.5398157328876557,time elaps:0\n",
      "CH_score_calinski: 4184.131575320639, CH_score_silhouett: 0.4920325611683702,time elaps:0\n",
      "CH_score_calinski: 4307.128959046696, CH_score_silhouett: 0.4624740990957102,time elaps:0\n",
      "CH_score_calinski: 3559.7669660442657, CH_score_silhouett: 0.44555829395767604,time elaps:0\n",
      "CH_score_calinski: 3546.2907931386844, CH_score_silhouett: 0.2866646442985484,time elaps:0\n",
      "CH_score_calinski: 4136.843768246006, CH_score_silhouett: 0.40417460371555686,time elaps:0\n",
      "CH_score_calinski: 2534.6580101176796, CH_score_silhouett: 0.3896134877515875,time elaps:0\n",
      "CH_score_calinski: 2201.2084716355407, CH_score_silhouett: 0.21829029320926674,time elaps:0\n",
      "CH_score_calinski: 3199.2859091709342, CH_score_silhouett: 0.2519271870124777,time elaps:0\n",
      "CH_score_calinski: 3401.6293905015505, CH_score_silhouett: 0.2914165485942942,time elaps:0\n",
      "CH_score_calinski: 3038.1193259967754, CH_score_silhouett: 0.2736180661821162,time elaps:0\n",
      "CH_score_calinski: 2989.565797683322, CH_score_silhouett: 0.26581144023965725,time elaps:0\n"
     ]
    }
   ],
   "source": [
    "Kss = range(2, 20, 1)\n",
    "CH_score_calinski_1 = []\n",
    "CH_score_silhouett_1 = []\n",
    "for K in Kss:\n",
    "    ch_ca, ch_si = K_cluster_analysis(K, X_train)\n",
    "    CH_score_calinski_1.append(ch_ca)\n",
    "    CH_score_silhouett_1.append(ch_si)"
   ]
  },
  {
   "cell_type": "code",
   "execution_count": 261,
   "metadata": {},
   "outputs": [
    {
     "data": {
      "text/plain": [
       "[<matplotlib.lines.Line2D at 0x1a28320deb8>]"
      ]
     },
     "execution_count": 261,
     "metadata": {},
     "output_type": "execute_result"
    },
    {
     "data": {
      "image/png": "[encoded data removed]",
      "text/plain": [
       "<Figure size 432x288 with 1 Axes>"
      ]
     },
     "metadata": {},
     "output_type": "display_data"
    }
   ],
   "source": [
    "plt.plot(Kss, np.array(CH_score_calinski_1), 'b-')"
   ]
  },
  {
   "cell_type": "code",
   "execution_count": 262,
   "metadata": {},
   "outputs": [
    {
     "data": {
      "text/plain": [
       "[<matplotlib.lines.Line2D at 0x1a284edaa20>]"
      ]
     },
     "execution_count": 262,
     "metadata": {},
     "output_type": "execute_result"
    },
    {
     "data": {
      "image/png": "[encoded data removed]",
      "text/plain": [
       "<Figure size 432x288 with 1 Axes>"
      ]
     },
     "metadata": {},
     "output_type": "display_data"
    }
   ],
   "source": [
    "plt.plot(Kss, np.array(CH_score_silhouett_1), 'g-')"
   ]
  },
  {
   "cell_type": "markdown",
   "metadata": {},
   "source": [
    "上图可看出，随着K值的加大，轮廓系数Silhouette Coefficient的分数依旧是不断下降的，但最好的评价分数已经可以达到0.7左右了，出现在第一个值的位置，即聚类最终分为两类的效果最好。  \n",
    "\n",
    "CH索引Calinski-Harabasz Index的分数有点奇怪，在K=2左右，分数非常低，在K=7左右突然升高，之后的走势和轮廓系数类似，我猜测原因可能是数据还是适合分为两类，符合球型高斯，所以轮廓系数在K=2时分数很高，但此时两个簇并不是非常密集的，外围的数据点比较分散，而CH索引在计算时，是使用欧氏距离，类间散度为每一类中心到所有样本中心的距离平方和，类内散度为每一类自己样本的方差和，评价分数约等于类内散度除以类间散度，所以当两个类的中心到所有样本中心距离不变，每个类自己的样本变稀疏分散时就会造成分数变低，而整体上看还是属于两个单独的类"
   ]
  },
  {
   "cell_type": "markdown",
   "metadata": {},
   "source": [
    "# 先PCA降维，再聚类"
   ]
  },
  {
   "cell_type": "markdown",
   "metadata": {},
   "source": [
    "由于没有y标签，在做PCA（用较少的主成分得到较多的信息）降维时，没办法直接通过外部评价或实际的分类模型进行参数调优，但可以使用上面的内部评价分数进行调优  \n",
    "\n",
    "原数据有101维，尝试降维至70,80,90,100 以轮廓系数Silhouette Coefficient为评价指标，看看效果如何  \n",
    "上面未进行降维时，聚类效果基本是类别数越少，聚类效果越好，故再此验证的聚类效果也选择K=2~20之间"
   ]
  },
  {
   "cell_type": "code",
   "execution_count": 263,
   "metadata": {
    "scrolled": false
   },
   "outputs": [
    {
     "name": "stdout",
     "output_type": "stream",
     "text": [
      "CH_score_calinski: 1935.1396077476873, CH_score_silhouett: 0.6977149132712752,time elaps:0\n",
      "CH_score_calinski: 3075.3440276104516, CH_score_silhouett: 0.6625273550076787,time elaps:0\n",
      "CH_score_calinski: 3710.6514205788826, CH_score_silhouett: 0.6326050778761051,time elaps:0\n",
      "CH_score_calinski: 4013.2455989060713, CH_score_silhouett: 0.5958191560752147,time elaps:0\n",
      "CH_score_calinski: 4488.624432872353, CH_score_silhouett: 0.5976172875960545,time elaps:0\n",
      "CH_score_calinski: 4674.1375774451835, CH_score_silhouett: 0.5570943401621308,time elaps:0\n",
      "CH_score_calinski: 4330.539436900941, CH_score_silhouett: 0.5321816741536269,time elaps:0\n",
      "CH_score_calinski: 4593.788291981996, CH_score_silhouett: 0.5429578557185246,time elaps:0\n",
      "CH_score_calinski: 4205.781220444305, CH_score_silhouett: 0.49282254956711763,time elaps:0\n",
      "CH_score_calinski: 4102.490403461226, CH_score_silhouett: 0.4296944637523147,time elaps:0\n",
      "CH_score_calinski: 2161.320844713968, CH_score_silhouett: 0.2570650561019746,time elaps:0\n",
      "CH_score_calinski: 3876.193585354019, CH_score_silhouett: 0.3141378974476425,time elaps:0\n",
      "CH_score_calinski: 3728.3661698020774, CH_score_silhouett: 0.35737921079756896,time elaps:0\n",
      "CH_score_calinski: 3700.2249319220605, CH_score_silhouett: 0.4183526696068717,time elaps:0\n",
      "CH_score_calinski: 2526.262480235984, CH_score_silhouett: 0.29506826750293924,time elaps:0\n",
      "CH_score_calinski: 3010.217254440239, CH_score_silhouett: 0.22848489437429398,time elaps:0\n",
      "CH_score_calinski: 3678.1782850099275, CH_score_silhouett: 0.38846337163351574,time elaps:0\n",
      "CH_score_calinski: 3162.452710727459, CH_score_silhouett: 0.3135831413493702,time elaps:0\n",
      "CH_score_calinski: 2013.6694096838492, CH_score_silhouett: 0.7441747061207019,time elaps:0\n",
      "CH_score_calinski: 3095.1577829156677, CH_score_silhouett: 0.6763017202730857,time elaps:0\n",
      "CH_score_calinski: 3529.513311194324, CH_score_silhouett: 0.6222816355184415,time elaps:0\n",
      "CH_score_calinski: 3914.353939888753, CH_score_silhouett: 0.5901823474396124,time elaps:0\n",
      "CH_score_calinski: 4390.894579630533, CH_score_silhouett: 0.5952178584348139,time elaps:0\n",
      "CH_score_calinski: 3957.988681751382, CH_score_silhouett: 0.5222739223700037,time elaps:0\n",
      "CH_score_calinski: 4015.0934571738057, CH_score_silhouett: 0.49113120199463667,time elaps:0\n",
      "CH_score_calinski: 4256.701169355334, CH_score_silhouett: 0.5066635749491023,time elaps:0\n",
      "CH_score_calinski: 3387.6245000162467, CH_score_silhouett: 0.36481108113710037,time elaps:0\n",
      "CH_score_calinski: 4086.295578896619, CH_score_silhouett: 0.4340087406519619,time elaps:0\n",
      "CH_score_calinski: 3311.3030055311497, CH_score_silhouett: 0.427710278291926,time elaps:0\n",
      "CH_score_calinski: 3614.593753130864, CH_score_silhouett: 0.4500933837156417,time elaps:0\n",
      "CH_score_calinski: 3626.7651037495352, CH_score_silhouett: 0.4341002739954688,time elaps:0\n",
      "CH_score_calinski: 3695.243223936301, CH_score_silhouett: 0.5151195975533972,time elaps:0\n",
      "CH_score_calinski: 2232.106813183629, CH_score_silhouett: 0.18445213993770698,time elaps:0\n",
      "CH_score_calinski: 2505.8936736689143, CH_score_silhouett: 0.36801745297142463,time elaps:0\n",
      "CH_score_calinski: 1504.235280347181, CH_score_silhouett: 0.2225725618971324,time elaps:0\n",
      "CH_score_calinski: 2868.5009877159546, CH_score_silhouett: 0.2628585409088338,time elaps:0\n",
      "CH_score_calinski: 1959.1282917325887, CH_score_silhouett: 0.7039752279209532,time elaps:0\n",
      "CH_score_calinski: 3064.0547363181, CH_score_silhouett: 0.6792108036635902,time elaps:0\n",
      "CH_score_calinski: 3580.8647574857537, CH_score_silhouett: 0.6127472132567108,time elaps:0\n",
      "CH_score_calinski: 3167.6827490168994, CH_score_silhouett: 0.572494912940002,time elaps:0\n",
      "CH_score_calinski: 3746.4470128932558, CH_score_silhouett: 0.5487852025152893,time elaps:0\n",
      "CH_score_calinski: 4567.863505011092, CH_score_silhouett: 0.5500006148312545,time elaps:0\n",
      "CH_score_calinski: 3309.7939834221984, CH_score_silhouett: 0.30953022564536126,time elaps:0\n",
      "CH_score_calinski: 4383.864105867905, CH_score_silhouett: 0.5207703582326703,time elaps:0\n",
      "CH_score_calinski: 4126.1686917894485, CH_score_silhouett: 0.4899888659882988,time elaps:0\n",
      "CH_score_calinski: 3052.9774324504037, CH_score_silhouett: 0.30750028272028823,time elaps:0\n",
      "CH_score_calinski: 3379.199712129573, CH_score_silhouett: 0.45235637168881787,time elaps:0\n",
      "CH_score_calinski: 4005.581443460126, CH_score_silhouett: 0.417989133203365,time elaps:0\n",
      "CH_score_calinski: 2788.781203198536, CH_score_silhouett: 0.34385134240198123,time elaps:0\n",
      "CH_score_calinski: 2658.581693878442, CH_score_silhouett: 0.33366244618199237,time elaps:0\n",
      "CH_score_calinski: 1791.0066401434144, CH_score_silhouett: 0.18126620221781642,time elaps:0\n",
      "CH_score_calinski: 3287.6778645847744, CH_score_silhouett: 0.2655774401069622,time elaps:0\n",
      "CH_score_calinski: 1458.5036229964178, CH_score_silhouett: 0.17105958464410084,time elaps:0\n",
      "CH_score_calinski: 3088.9863137714256, CH_score_silhouett: 0.2650014604285442,time elaps:0\n",
      "CH_score_calinski: 2012.426297785085, CH_score_silhouett: 0.7439618913925297,time elaps:0\n",
      "CH_score_calinski: 3027.6829886128726, CH_score_silhouett: 0.6533338914712661,time elaps:0\n",
      "CH_score_calinski: 3658.734919826419, CH_score_silhouett: 0.6380994616750602,time elaps:0\n",
      "CH_score_calinski: 3986.847839106471, CH_score_silhouett: 0.5926899660017655,time elaps:0\n",
      "CH_score_calinski: 3863.4917781143818, CH_score_silhouett: 0.5506038813084002,time elaps:0\n",
      "CH_score_calinski: 3790.6974188233835, CH_score_silhouett: 0.5329709472519748,time elaps:0\n",
      "CH_score_calinski: 4673.851671489924, CH_score_silhouett: 0.5480886681740457,time elaps:0\n",
      "CH_score_calinski: 4478.177823787814, CH_score_silhouett: 0.5376761739596819,time elaps:0\n",
      "CH_score_calinski: 3788.6414151249664, CH_score_silhouett: 0.3951585227120271,time elaps:0\n",
      "CH_score_calinski: 2586.540678117867, CH_score_silhouett: 0.418727580694162,time elaps:0\n",
      "CH_score_calinski: 3729.247737235438, CH_score_silhouett: 0.45664357303127084,time elaps:0\n",
      "CH_score_calinski: 3457.34254453771, CH_score_silhouett: 0.28093296196644363,time elaps:0\n",
      "CH_score_calinski: 3475.5280661657634, CH_score_silhouett: 0.32323613466074214,time elaps:0\n",
      "CH_score_calinski: 2556.2940753919697, CH_score_silhouett: 0.2851925808180091,time elaps:0\n",
      "CH_score_calinski: 1947.5260188153272, CH_score_silhouett: 0.3621499142687685,time elaps:0\n",
      "CH_score_calinski: 3050.933758066252, CH_score_silhouett: 0.3297546565902393,time elaps:0\n",
      "CH_score_calinski: 3188.413907806586, CH_score_silhouett: 0.24048809996757117,time elaps:0\n",
      "CH_score_calinski: 2860.176838208891, CH_score_silhouett: 0.4260434105051163,time elaps:0\n"
     ]
    },
    {
     "data": {
      "image/png": "[encoded data removed]",
      "text/plain": [
       "<Figure size 432x288 with 1 Axes>"
      ]
     },
     "metadata": {},
     "output_type": "display_data"
    }
   ],
   "source": [
    "n_comp = range(70, 101, 10)\n",
    "K_pca = range(2, 20, 1)\n",
    "\n",
    "CH_score_silhouett_pca=[]\n",
    "\n",
    "for n in n_comp:\n",
    "    pca = PCA(n_components=n)\n",
    "    #print(\"PCA begin with n_components: {}\".format(n));\n",
    "    pca.fit(X_train)\n",
    "    \n",
    "    X_train_pca = pca.transform(X_train)\n",
    "    \n",
    "    for K_0 in K_pca:\n",
    "        ch_ca, ch_si = K_cluster_analysis(K_0, X_train_pca)\n",
    "        #CH_score_calinski_pca.append(ch_ca)\n",
    "        CH_score_silhouett_pca.append(ch_si)\n",
    "    \n",
    "    plt.plot(K_pca,np.array(CH_score_silhouett_pca),label=\"n_components=%d\"%(n,))\n",
    "    CH_score_silhouett_pca.clear()\n",
    "    \n",
    "leg = plt.legend(loc='best', ncol=2, mode=\"expand\", shadow=True, fancybox=True)\n",
    "leg.get_frame().set_alpha(0.5)\n",
    "plt.show() \n"
   ]
  },
  {
   "cell_type": "markdown",
   "metadata": {},
   "source": [
    "从上面的结果可发现，进行PCA降维后，曲线和未进行降维之前的走势差不多，但降维为80左右时，最好的分数可达到0.75左右，也是出现在2个分类的时候，PCA可能改善了聚类效果，原因一方面可能是因为原数据101维中有些特征相关性比较强，降维后得到的数据更有有效，另一方面可能是因为K-means对球型高斯分布的聚类效果比较好，不适合扁长型的数据分布聚类，也不适合分布散度不同、类别样本不均衡的聚类，而PCA降维可能使样本的分布更加符合球型高斯分布，故得到了更好的效果"
   ]
  },
  {
   "cell_type": "markdown",
   "metadata": {},
   "source": [
    "发现相同的代码，重复运行会出现不同的结果，有的聚类效果好点，有的差点，我感觉是因为K-means本来就不能保证达到全局最优解，因为聚类效果除了和K值有关，另外也跟给定质心的初值有关，每次运行代码，都是随机给定质心，可能给的质心会造成聚类效果特别差的情况，也有可能很好"
   ]
  },
  {
   "cell_type": "markdown",
   "metadata": {},
   "source": [
    "小结  \n",
    "PCA学习特征之间的相关性  \n",
    "聚类学习样本之间的相关性"
   ]
  },
  {
   "cell_type": "code",
   "execution_count": null,
   "metadata": {},
   "outputs": [],
   "source": []
  }
 ],
 "metadata": {
  "kernelspec": {
   "display_name": "Python 3",
   "language": "python",
   "name": "python3"
  },
  "language_info": {
   "codemirror_mode": {
    "name": "ipython",
    "version": 3
   },
   "file_extension": ".py",
   "mimetype": "text/x-python",
   "name": "python",
   "nbconvert_exporter": "python",
   "pygments_lexer": "ipython3",
   "version": "3.6.5"
  }
 },
 "nbformat": 4,
 "nbformat_minor": 2
}
